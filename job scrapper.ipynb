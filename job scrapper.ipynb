{
  "cells": [
    {
      "cell_type": "code",
      "execution_count": null,
      "metadata": {
        "id": "25EryxD-CwSM"
      },
      "outputs": [],
      "source": [
        "#Import Packages\n",
        "from selenium import webdriver\n",
        "import time\n",
        "import pandas as pd\n",
        "import os"
      ]
    },
    {
      "cell_type": "code",
      "execution_count": null,
      "metadata": {
        "id": "lvK0uboUCwSR"
      },
      "outputs": [],
      "source": [
        "#Import Packages\n",
        "\n",
        "from selenium.webdriver.support.select import Select\n",
        "from selenium.webdriver.support.ui import WebDriverWait\n",
        "from selenium.webdriver.common.by import By\n",
        "from selenium.webdriver.support import expected_conditions as EC"
      ]
    },
    {
      "cell_type": "code",
      "execution_count": null,
      "metadata": {
        "id": "9Gl_LjS8CwSS"
      },
      "outputs": [],
      "source": [
        "#Use this Url and change city or role accordingly\n",
        "\n",
        "url1='https://www.linkedin.com/jobs/search/?currentJobId=3784873937&distance=25&f_WT=2&geoId=104305776&keywords=software%20engineer&origin=JOBS_HOME_SEARCH_CARDS'"
      ]
    },
    {
      "cell_type": "code",
      "execution_count": null,
      "metadata": {
        "id": "gAerH9-sCwST"
      },
      "outputs": [],
      "source": [
        "#Load the web driver and get the url\n",
        "\n",
        "driver = webdriver.Chrome(executable_path=r'C:\\\\Users\\\\Default\\\\Desktop\\\\chromedriver.exe')\n",
        "driver.implicitly_wait(10)\n",
        "driver.get(url1)"
      ]
    },
    {
      "cell_type": "code",
      "execution_count": null,
      "metadata": {
        "id": "oloWqEzjCwST"
      },
      "outputs": [],
      "source": [
        "#Find number of job listings\n",
        "\n",
        "y=driver.find_elements_by_class_name('jobs-search-results-list__subtitle')[0].text"
      ]
    },
    {
      "cell_type": "code",
      "execution_count": null,
      "metadata": {
        "id": "556D27-3CwSU",
        "outputId": "6e866759-57a2-47be-c38b-bc98a9e7d7f2"
      },
      "outputs": [
        {
          "data": {
            "text/plain": [
              "str"
            ]
          },
          "execution_count": 7,
          "metadata": {},
          "output_type": "execute_result"
        }
      ],
      "source": [
        "type(y)"
      ]
    },
    {
      "cell_type": "code",
      "execution_count": null,
      "metadata": {
        "id": "aikyiK5KCwSV"
      },
      "outputs": [],
      "source": [
        "n=pd.to_numeric(y)"
      ]
    },
    {
      "cell_type": "code",
      "execution_count": null,
      "metadata": {
        "id": "MZq39TghCwSW",
        "outputId": "342d34e5-363f-490a-c5d4-55a375c972f0"
      },
      "outputs": [
        {
          "data": {
            "text/plain": [
              "228"
            ]
          },
          "execution_count": 9,
          "metadata": {},
          "output_type": "execute_result"
        }
      ],
      "source": [
        "n"
      ]
    },
    {
      "cell_type": "code",
      "execution_count": null,
      "metadata": {
        "id": "ng_8H1gjCwSX"
      },
      "outputs": [],
      "source": [
        "#Create empty lists for company name and job title\n",
        "\n",
        "companyname= []\n",
        "titlename= []\n",
        "hrefList = []"
      ]
    },
    {
      "cell_type": "code",
      "execution_count": null,
      "metadata": {
        "id": "pW4vxLZTCwSW"
      },
      "outputs": [],
      "source": [
        "#Loop to scroll through all jobs and click on see more jobs button for infinite scrolling\n",
        "i = 0\n",
        "while i < n:\n",
        "  driver = webdriver.Chrome(executable_path=r'C:\\\\Users\\\\Default\\\\Desktop\\\\chromedriver.exe')\n",
        "  driver.implicitly_wait(10)\n",
        "  modified_url=url1+'&start='+str(i)\n",
        "  driver.get(modified_url)\n",
        "  time.sleep(10)\n",
        "  try:\n",
        "    for i in range(n):\n",
        "      company=driver.find_elements_by_class_name('job-card-container__primary-description')[i].text\n",
        "      companyname.append(company)\n",
        "  except IndexError:\n",
        "    print(\"no name\")\n",
        "  try:\n",
        "    for i in range(n):\n",
        "      title=driver.find_elements_by_class_name('job-card-list__title')[i].text\n",
        "      titlename.append(title)\n",
        "  except IndexError:\n",
        "    print(\"no title\")\n",
        "  try:\n",
        "    jobList = driver.find_elements_by_class_name('job-card-container__link')\n",
        "    for e in jobList:\n",
        "        hrefList.append(e.get_attribute('href'))\n",
        "  except:\n",
        "    print(\"no link\")\n",
        "  i+=25\n",
        ""
      ]
    },
    {
      "cell_type": "code",
      "execution_count": null,
      "metadata": {
        "id": "ErmbgoTjCwSY",
        "outputId": "331c9386-1840-493a-c85f-a2c5575ecdeb"
      },
      "outputs": [
        {
          "data": {
            "text/plain": [
              "228"
            ]
          },
          "execution_count": 13,
          "metadata": {},
          "output_type": "execute_result"
        }
      ],
      "source": [
        "len(companyname)"
      ]
    },
    {
      "cell_type": "code",
      "execution_count": null,
      "metadata": {
        "id": "jPzpsPIOCwSZ",
        "outputId": "2cfb259f-8b21-441c-cc58-c878d3cebad5"
      },
      "outputs": [
        {
          "data": {
            "text/plain": [
              "228"
            ]
          },
          "execution_count": 15,
          "metadata": {},
          "output_type": "execute_result"
        }
      ],
      "source": [
        "len(titlename)\n"
      ]
    },
    {
      "cell_type": "code",
      "execution_count": null,
      "metadata": {
        "id": "H4tqaUHWCwSa"
      },
      "outputs": [],
      "source": [
        "#Create dataframe for company name and title\n",
        "\n",
        "companyfinal=pd.DataFrame(companyname,columns=[\"company\"])\n",
        "titlefinal=pd.DataFrame(titlename,columns=[\"title\"])\n",
        "\n",
        "\n",
        "\n"
      ]
    },
    {
      "cell_type": "code",
      "execution_count": null,
      "metadata": {
        "id": "2Rep3qg9CwSa"
      },
      "outputs": [],
      "source": [
        "#Join the two lists\n",
        "\n",
        "x=companyfinal.join(titlefinal)\n"
      ]
    },
    {
      "cell_type": "code",
      "execution_count": null,
      "metadata": {
        "id": "V5AA2zyYCwSa",
        "outputId": "c59f2788-e393-477d-f539-1d9a24342d9a"
      },
      "outputs": [
        {
          "data": {
            "text/html": [
              "<div>\n",
              "<style scoped>\n",
              "    .dataframe tbody tr th:only-of-type {\n",
              "        vertical-align: middle;\n",
              "    }\n",
              "\n",
              "    .dataframe tbody tr th {\n",
              "        vertical-align: top;\n",
              "    }\n",
              "\n",
              "    .dataframe thead th {\n",
              "        text-align: right;\n",
              "    }\n",
              "</style>\n",
              "<table border=\"1\" class=\"dataframe\">\n",
              "  <thead>\n",
              "    <tr style=\"text-align: right;\">\n",
              "      <th></th>\n",
              "      <th>company</th>\n",
              "      <th>title</th>\n",
              "    </tr>\n",
              "  </thead>\n",
              "  <tbody>\n",
              "    <tr>\n",
              "      <th>0</th>\n",
              "      <td>rebuy recommerce</td>\n",
              "      <td>Data Analyst - Marketing (m/f/x)</td>\n",
              "    </tr>\n",
              "    <tr>\n",
              "      <th>1</th>\n",
              "      <td>Vinted</td>\n",
              "      <td>Data Analyst / Decision Scientist, Digital Mar...</td>\n",
              "    </tr>\n",
              "    <tr>\n",
              "      <th>2</th>\n",
              "      <td>Taxfix</td>\n",
              "      <td>CRM Data Analyst</td>\n",
              "    </tr>\n",
              "    <tr>\n",
              "      <th>3</th>\n",
              "      <td>GetYourGuide</td>\n",
              "      <td>Senior Data Analyst, Marketing Analytics (Bran...</td>\n",
              "    </tr>\n",
              "    <tr>\n",
              "      <th>4</th>\n",
              "      <td>ONOMOTION (ONO)</td>\n",
              "      <td>Business Analyst Data Structure and Finance Sy...</td>\n",
              "    </tr>\n",
              "    <tr>\n",
              "      <th>...</th>\n",
              "      <td>...</td>\n",
              "      <td>...</td>\n",
              "    </tr>\n",
              "    <tr>\n",
              "      <th>223</th>\n",
              "      <td>Hypoport SE</td>\n",
              "      <td>Business Analyst - Software Development InsurT...</td>\n",
              "    </tr>\n",
              "    <tr>\n",
              "      <th>224</th>\n",
              "      <td>adesso insurance solutions GmbH</td>\n",
              "      <td>Business Analyst (all genders) Datenmigration ...</td>\n",
              "    </tr>\n",
              "    <tr>\n",
              "      <th>225</th>\n",
              "      <td>idealo internet GmbH</td>\n",
              "      <td>Senior Software Engineer (m|f|x) - Customer Ac...</td>\n",
              "    </tr>\n",
              "    <tr>\n",
              "      <th>226</th>\n",
              "      <td>Bausch + Lomb</td>\n",
              "      <td>Praktikant oder Werkstudent (m/w/d)- im Bereic...</td>\n",
              "    </tr>\n",
              "    <tr>\n",
              "      <th>227</th>\n",
              "      <td>Wayfair</td>\n",
              "      <td>Working Student / Intern EU Major Promotions</td>\n",
              "    </tr>\n",
              "  </tbody>\n",
              "</table>\n",
              "<p>228 rows × 2 columns</p>\n",
              "</div>"
            ],
            "text/plain": [
              "                             company  \\\n",
              "0                   rebuy recommerce   \n",
              "1                             Vinted   \n",
              "2                             Taxfix   \n",
              "3                       GetYourGuide   \n",
              "4                    ONOMOTION (ONO)   \n",
              "..                               ...   \n",
              "223                      Hypoport SE   \n",
              "224  adesso insurance solutions GmbH   \n",
              "225             idealo internet GmbH   \n",
              "226                    Bausch + Lomb   \n",
              "227                          Wayfair   \n",
              "\n",
              "                                                 title  \n",
              "0                     Data Analyst - Marketing (m/f/x)  \n",
              "1    Data Analyst / Decision Scientist, Digital Mar...  \n",
              "2                                     CRM Data Analyst  \n",
              "3    Senior Data Analyst, Marketing Analytics (Bran...  \n",
              "4    Business Analyst Data Structure and Finance Sy...  \n",
              "..                                                 ...  \n",
              "223  Business Analyst - Software Development InsurT...  \n",
              "224  Business Analyst (all genders) Datenmigration ...  \n",
              "225  Senior Software Engineer (m|f|x) - Customer Ac...  \n",
              "226  Praktikant oder Werkstudent (m/w/d)- im Bereic...  \n",
              "227       Working Student / Intern EU Major Promotions  \n",
              "\n",
              "[228 rows x 2 columns]"
            ]
          },
          "execution_count": 18,
          "metadata": {},
          "output_type": "execute_result"
        }
      ],
      "source": [
        "x"
      ]
    },
    {
      "cell_type": "code",
      "execution_count": null,
      "metadata": {
        "id": "-SaYUrBRCwSb"
      },
      "outputs": [],
      "source": [
        "#Save file in your directory\n",
        "\n",
        "x.to_csv('linkedin.csv')"
      ]
    },
    {
      "cell_type": "code",
      "execution_count": null,
      "metadata": {
        "id": "m9YwLdgLCwSb"
      },
      "outputs": [],
      "source": [
        "linklist=pd.DataFrame(hrefList,columns=[\"joblinks\"])\n"
      ]
    },
    {
      "cell_type": "code",
      "execution_count": null,
      "metadata": {
        "id": "lKqzz4_nCwSc"
      },
      "outputs": [],
      "source": [
        "linklist.to_csv('linkedinlinks.csv')"
      ]
    },
    {
      "cell_type": "code",
      "execution_count": null,
      "metadata": {
        "id": "OxO_XE7PCwSc"
      },
      "outputs": [],
      "source": [
        "#Close the driver\n",
        "\n",
        "driver.close()"
      ]
    },
    {
      "cell_type": "code",
      "execution_count": null,
      "metadata": {
        "id": "D5oQg3DnCwSc"
      },
      "outputs": [],
      "source": []
    },
    {
      "cell_type": "code",
      "execution_count": null,
      "metadata": {
        "id": "OQReupGcCwSc"
      },
      "outputs": [],
      "source": []
    }
  ],
  "metadata": {
    "kernelspec": {
      "display_name": "Python 3",
      "language": "python",
      "name": "python3"
    },
    "language_info": {
      "codemirror_mode": {
        "name": "ipython",
        "version": 3
      },
      "file_extension": ".py",
      "mimetype": "text/x-python",
      "name": "python",
      "nbconvert_exporter": "python",
      "pygments_lexer": "ipython3",
      "version": "3.8.5"
    },
    "colab": {
      "provenance": []
    }
  },
  "nbformat": 4,
  "nbformat_minor": 0
}