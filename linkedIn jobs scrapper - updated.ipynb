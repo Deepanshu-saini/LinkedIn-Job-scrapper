{
 "cells": [
  {
   "cell_type": "code",
   "execution_count": 1,
   "metadata": {},
   "outputs": [],
   "source": [
    "#Import Packages\n",
    "from selenium import webdriver\n",
    "import time\n",
    "import pandas as pd\n",
    "import os"
   ]
  },
  {
   "cell_type": "code",
   "execution_count": 2,
   "metadata": {},
   "outputs": [],
   "source": [
    "#Import Packages\n",
    "\n",
    "from selenium.webdriver.support.select import Select\n",
    "from selenium.webdriver.support.ui import WebDriverWait\n",
    "from selenium.webdriver.common.by import By\n",
    "from selenium.webdriver.support import expected_conditions as EC"
   ]
  },
  {
   "cell_type": "code",
   "execution_count": 3,
   "metadata": {},
   "outputs": [],
   "source": [
    "#Use this Url and change city or role accordingly\n",
    "\n",
    "url1='https://www.linkedin.com/jobs/search/?currentJobId=3799032890&distance=25&f_WT=2&geoId=104305776&keywords=software%20engineer&origin=JOBS_HOME_SEARCH_CARDS'"
   ]
  },
  {
   "cell_type": "code",
   "execution_count": 4,
   "metadata": {},
   "outputs": [],
   "source": [
    "#Load the web driver and get the url\n",
    "\n",
    "driver = webdriver.Chrome()\n",
    "driver.implicitly_wait(10)\n",
    "driver.get(url1)"
   ]
  },
  {
   "cell_type": "code",
   "execution_count": 5,
   "metadata": {},
   "outputs": [],
   "source": [
    "#Find number of job listings\n",
    "\n",
    "y=driver.find_elements(By.CLASS_NAME,'results-context-header__job-count')[0].text"
   ]
  },
  {
   "cell_type": "code",
   "execution_count": 6,
   "metadata": {},
   "outputs": [
    {
     "data": {
      "text/plain": [
       "str"
      ]
     },
     "execution_count": 6,
     "metadata": {},
     "output_type": "execute_result"
    }
   ],
   "source": [
    "type(y)"
   ]
  },
  {
   "cell_type": "code",
   "execution_count": 7,
   "metadata": {},
   "outputs": [],
   "source": [
    "y=y.replace(',',\"\").replace('+',\"\")\n",
    "n=pd.to_numeric(y)"
   ]
  },
  {
   "cell_type": "code",
   "execution_count": 8,
   "metadata": {},
   "outputs": [
    {
     "data": {
      "text/plain": [
       "150"
      ]
     },
     "execution_count": 8,
     "metadata": {},
     "output_type": "execute_result"
    }
   ],
   "source": [
    "n"
   ]
  },
  {
   "cell_type": "code",
   "execution_count": 9,
   "metadata": {},
   "outputs": [],
   "source": [
    "#Loop to scroll through all jobs and click on see more jobs button for infinite scrolling\n",
    "\n",
    "i = 2\n",
    "while i <= int((n+200)/25)+1: \n",
    "    driver.execute_script(\"window.scrollTo(0, document.body.scrollHeight);\")\n",
    "    i = i + 1\n",
    "    \n",
    "    try:\n",
    "        send=driver.find_element_by_xpath(\"//button[@aria-label='See more jobs']\")\n",
    "        driver.execute_script(\"arguments[0].click();\", send)   \n",
    "        time.sleep(3)\n",
    "    \n",
    "        \n",
    "         #buu=driver.find_elements_by_tag_name(\"button\")\n",
    "         #x=[btn for btn in buu if btn.text==\"See more jobs\"]\n",
    "         #for btn in x:\n",
    "                #driver.execute_script(\"arguments[0].click();\", btn)\n",
    "                #time.sleep(3)\n",
    "        \n",
    "                                                 \n",
    "\n",
    "\n",
    "            \n",
    "    except:\n",
    "        pass\n",
    "        time.sleep(5)\n",
    "         "
   ]
  },
  {
   "cell_type": "code",
   "execution_count": 10,
   "metadata": {},
   "outputs": [],
   "source": [
    "#Create empty lists for company name and job title\n",
    "\n",
    "companyname= []\n",
    "titlename= []\n"
   ]
  },
  {
   "cell_type": "code",
   "execution_count": 11,
   "metadata": {},
   "outputs": [],
   "source": [
    "#Find company name and append it to the blank list\n",
    "\n",
    "try:\n",
    "    for i in range(n):\n",
    "        company=driver.find_elements(By.CLASS_NAME,'base-search-card__subtitle')[i].text\n",
    "        companyname.append(company)\n",
    "        \n",
    "            \n",
    "    \n",
    "\n",
    "        \n",
    "    \n",
    "\n",
    "    \n",
    "    \n",
    "except IndexError:\n",
    "    print(\"no\")\n",
    "        \n",
    "    \n",
    "    "
   ]
  },
  {
   "cell_type": "code",
   "execution_count": 12,
   "metadata": {},
   "outputs": [
    {
     "data": {
      "text/plain": [
       "150"
      ]
     },
     "execution_count": 12,
     "metadata": {},
     "output_type": "execute_result"
    }
   ],
   "source": [
    "len(companyname)"
   ]
  },
  {
   "cell_type": "code",
   "execution_count": 13,
   "metadata": {},
   "outputs": [],
   "source": [
    "#Find title name and append it to the blank list\n",
    "\n",
    "try:\n",
    "    for i in range(n):\n",
    "        \n",
    "        \n",
    "        title=driver.find_elements(By.CLASS_NAME,'base-search-card__title')[i].text\n",
    "    \n",
    "\n",
    "        titlename.append(title)\n",
    "        \n",
    "            \n",
    "\n",
    "\n",
    "    \n",
    "    \n",
    "except IndexError:\n",
    "    print(\"no\")\n",
    "        \n",
    "    \n",
    "    "
   ]
  },
  {
   "cell_type": "code",
   "execution_count": 14,
   "metadata": {},
   "outputs": [
    {
     "data": {
      "text/plain": [
       "150"
      ]
     },
     "execution_count": 14,
     "metadata": {},
     "output_type": "execute_result"
    }
   ],
   "source": [
    "len(titlename)\n"
   ]
  },
  {
   "cell_type": "code",
   "execution_count": 15,
   "metadata": {},
   "outputs": [],
   "source": [
    "#Create dataframe for company name and title\n",
    "\n",
    "companyfinal=pd.DataFrame(companyname,columns=[\"company\"])\n",
    "titlefinal=pd.DataFrame(titlename,columns=[\"title\"])\n",
    "\n",
    "\n",
    "\n"
   ]
  },
  {
   "cell_type": "code",
   "execution_count": 16,
   "metadata": {},
   "outputs": [],
   "source": [
    "#Join the two lists\n",
    "\n",
    "x=companyfinal.join(titlefinal)\n"
   ]
  },
  {
   "cell_type": "code",
   "execution_count": 17,
   "metadata": {},
   "outputs": [
    {
     "data": {
      "text/html": [
       "<div>\n",
       "<style scoped>\n",
       "    .dataframe tbody tr th:only-of-type {\n",
       "        vertical-align: middle;\n",
       "    }\n",
       "\n",
       "    .dataframe tbody tr th {\n",
       "        vertical-align: top;\n",
       "    }\n",
       "\n",
       "    .dataframe thead th {\n",
       "        text-align: right;\n",
       "    }\n",
       "</style>\n",
       "<table border=\"1\" class=\"dataframe\">\n",
       "  <thead>\n",
       "    <tr style=\"text-align: right;\">\n",
       "      <th></th>\n",
       "      <th>company</th>\n",
       "      <th>title</th>\n",
       "    </tr>\n",
       "  </thead>\n",
       "  <tbody>\n",
       "    <tr>\n",
       "      <th>0</th>\n",
       "      <td>Talent Disruptors</td>\n",
       "      <td>Web Developer - Remote Dubai</td>\n",
       "    </tr>\n",
       "    <tr>\n",
       "      <th>1</th>\n",
       "      <td>nybl</td>\n",
       "      <td>Software Developer (Remote)</td>\n",
       "    </tr>\n",
       "    <tr>\n",
       "      <th>2</th>\n",
       "      <td>Tabby</td>\n",
       "      <td>Frontend Engineer (Core team)</td>\n",
       "    </tr>\n",
       "    <tr>\n",
       "      <th>3</th>\n",
       "      <td>Zywa (YC W22)</td>\n",
       "      <td>Software Engineer</td>\n",
       "    </tr>\n",
       "    <tr>\n",
       "      <th>4</th>\n",
       "      <td>Canonical</td>\n",
       "      <td>Web Developer</td>\n",
       "    </tr>\n",
       "    <tr>\n",
       "      <th>...</th>\n",
       "      <td>...</td>\n",
       "      <td>...</td>\n",
       "    </tr>\n",
       "    <tr>\n",
       "      <th>145</th>\n",
       "      <td>Canonical</td>\n",
       "      <td>Senior Salesforce Engineer, Commercial Systems</td>\n",
       "    </tr>\n",
       "    <tr>\n",
       "      <th>146</th>\n",
       "      <td>Corva</td>\n",
       "      <td>Real Time Drilling and Completions Optimizatio...</td>\n",
       "    </tr>\n",
       "    <tr>\n",
       "      <th>147</th>\n",
       "      <td>Crossover</td>\n",
       "      <td>Principal Solutions Architect, Trilogy (Remote...</td>\n",
       "    </tr>\n",
       "    <tr>\n",
       "      <th>148</th>\n",
       "      <td>Crossover</td>\n",
       "      <td>Technical Project Manager, Trilogy (Remote) - ...</td>\n",
       "    </tr>\n",
       "    <tr>\n",
       "      <th>149</th>\n",
       "      <td>Canonical</td>\n",
       "      <td>Graduate Linux System Engineer - QA, Tooling, ...</td>\n",
       "    </tr>\n",
       "  </tbody>\n",
       "</table>\n",
       "<p>150 rows × 2 columns</p>\n",
       "</div>"
      ],
      "text/plain": [
       "               company                                              title\n",
       "0    Talent Disruptors                       Web Developer - Remote Dubai\n",
       "1                 nybl                        Software Developer (Remote)\n",
       "2                Tabby                      Frontend Engineer (Core team)\n",
       "3        Zywa (YC W22)                                  Software Engineer\n",
       "4            Canonical                                      Web Developer\n",
       "..                 ...                                                ...\n",
       "145          Canonical     Senior Salesforce Engineer, Commercial Systems\n",
       "146              Corva  Real Time Drilling and Completions Optimizatio...\n",
       "147          Crossover  Principal Solutions Architect, Trilogy (Remote...\n",
       "148          Crossover  Technical Project Manager, Trilogy (Remote) - ...\n",
       "149          Canonical  Graduate Linux System Engineer - QA, Tooling, ...\n",
       "\n",
       "[150 rows x 2 columns]"
      ]
     },
     "execution_count": 17,
     "metadata": {},
     "output_type": "execute_result"
    }
   ],
   "source": [
    "x"
   ]
  },
  {
   "cell_type": "code",
   "execution_count": 18,
   "metadata": {},
   "outputs": [],
   "source": [
    "#Save file in your directory\n",
    "\n",
    "x.to_csv('linkedin.csv')"
   ]
  },
  {
   "cell_type": "code",
   "execution_count": 19,
   "metadata": {},
   "outputs": [],
   "source": [
    "\n",
    "#Find job links and append it to a list\n",
    "\n",
    "jobList = driver.find_elements(By.CLASS_NAME,'base-card__full-link')\n",
    "hrefList = []\n",
    "for e in jobList:\n",
    "    hrefList.append(e.get_attribute('href'))\n",
    "\n",
    "#for href in hrefList:\n",
    "    #link.append(href)\n",
    "    "
   ]
  },
  {
   "cell_type": "code",
   "execution_count": 20,
   "metadata": {},
   "outputs": [
    {
     "data": {
      "text/plain": [
       "['https://ae.linkedin.com/jobs/view/web-developer-remote-dubai-at-talent-disruptors-3804778054?refId=frwg5uNYaGelovQ22c0N9A%3D%3D&trackingId=BR8MgRzbZciaxT9k8AHcvg%3D%3D&position=1&pageNum=0&trk=public_jobs_jserp-result_search-card',\n",
       " 'https://ae.linkedin.com/jobs/view/software-developer-remote-at-nybl-3598190070?refId=frwg5uNYaGelovQ22c0N9A%3D%3D&trackingId=R5fV4%2FJGpiQ1f6X%2FOXFmyg%3D%3D&position=2&pageNum=0&trk=public_jobs_jserp-result_search-card',\n",
       " 'https://ae.linkedin.com/jobs/view/frontend-engineer-core-team-at-%D8%AA%D8%A7%D8%A8%D9%8A-3794099082?refId=frwg5uNYaGelovQ22c0N9A%3D%3D&trackingId=yUK0PmV2zUZx%2B%2F4rBxWGNw%3D%3D&position=3&pageNum=0&trk=public_jobs_jserp-result_search-card',\n",
       " 'https://ae.linkedin.com/jobs/view/software-engineer-at-zywa-yc-w22-3728589956?refId=frwg5uNYaGelovQ22c0N9A%3D%3D&trackingId=FXcv398tRzLzyWGBD0lPtA%3D%3D&position=4&pageNum=0&trk=public_jobs_jserp-result_search-card',\n",
       " 'https://ae.linkedin.com/jobs/view/web-developer-at-canonical-3766322550?refId=frwg5uNYaGelovQ22c0N9A%3D%3D&trackingId=x0FxlWygE9xwZPWTyNIdvA%3D%3D&position=5&pageNum=0&trk=public_jobs_jserp-result_search-card',\n",
       " 'https://ae.linkedin.com/jobs/view/senior-engineer-java-at-nagarro-3746378104?refId=frwg5uNYaGelovQ22c0N9A%3D%3D&trackingId=yySqRw%2BneyexDWW2BO3LwQ%3D%3D&position=6&pageNum=0&trk=public_jobs_jserp-result_search-card',\n",
       " 'https://ae.linkedin.com/jobs/view/software-developer-engineer-in-test-sdet-qa-at-xa-group-3761471783?refId=frwg5uNYaGelovQ22c0N9A%3D%3D&trackingId=Jvrqh%2BogDHTyXmcPe2kVzw%3D%3D&position=7&pageNum=0&trk=public_jobs_jserp-result_search-card',\n",
       " 'https://ae.linkedin.com/jobs/view/back-end-developer-at-iphone-photography-school-3800976694?refId=frwg5uNYaGelovQ22c0N9A%3D%3D&trackingId=ewvO3aYP%2Fk%2FCdcnWibMWgw%3D%3D&position=8&pageNum=0&trk=public_jobs_jserp-result_search-card',\n",
       " 'https://ae.linkedin.com/jobs/view/data-engineer-at-ekar-3768307950?refId=frwg5uNYaGelovQ22c0N9A%3D%3D&trackingId=BD00rJmR%2Fq%2Bl72BEijroVQ%3D%3D&position=9&pageNum=0&trk=public_jobs_jserp-result_search-card',\n",
       " 'https://ae.linkedin.com/jobs/view/senior-software-engineer-at-orbit-3744788471?refId=frwg5uNYaGelovQ22c0N9A%3D%3D&trackingId=r7PNXZt7V2%2FDyOjRmHJdkw%3D%3D&position=10&pageNum=0&trk=public_jobs_jserp-result_search-card',\n",
       " 'https://ae.linkedin.com/jobs/view/software-engineer-app-stores-backend-remote-at-canonical-3801879585?refId=frwg5uNYaGelovQ22c0N9A%3D%3D&trackingId=%2FB47zdfUraIeboWAi0K9iA%3D%3D&position=11&pageNum=0&trk=public_jobs_jserp-result_search-card',\n",
       " 'https://ae.linkedin.com/jobs/view/software-engineer-talent-science-at-canonical-3724278418?refId=frwg5uNYaGelovQ22c0N9A%3D%3D&trackingId=km5u8Jj7fIObGS%2FG2J9IZw%3D%3D&position=12&pageNum=0&trk=public_jobs_jserp-result_search-card',\n",
       " 'https://ae.linkedin.com/jobs/view/unity-developer-at-tamatem-games-3803798876?refId=frwg5uNYaGelovQ22c0N9A%3D%3D&trackingId=FYvFyxf2C3gYykAgZTJAxg%3D%3D&position=13&pageNum=0&trk=public_jobs_jserp-result_search-card',\n",
       " 'https://ae.linkedin.com/jobs/view/staff-web-developer-at-consensys-3746784522?refId=frwg5uNYaGelovQ22c0N9A%3D%3D&trackingId=VQeEbhyle1SPHa47GHsiJw%3D%3D&position=14&pageNum=0&trk=public_jobs_jserp-result_search-card',\n",
       " 'https://ae.linkedin.com/jobs/view/dubai-onsite-oracle-programmer-at-k20s-kinetic-technologies-private-limited-3781788888?refId=frwg5uNYaGelovQ22c0N9A%3D%3D&trackingId=yougXgSwIqFMMK0HHeBY4A%3D%3D&position=15&pageNum=0&trk=public_jobs_jserp-result_search-card',\n",
       " 'https://ae.linkedin.com/jobs/view/frontend-engineer-checkout-scoring-at-%D8%AA%D8%A7%D8%A8%D9%8A-3794091999?refId=frwg5uNYaGelovQ22c0N9A%3D%3D&trackingId=yI%2BFVUi4AKRpMUudWDSbHg%3D%3D&position=16&pageNum=0&trk=public_jobs_jserp-result_search-card',\n",
       " 'https://ae.linkedin.com/jobs/view/backend-engineer-net-at-omniscript-software-solutions-at-join-com-3796685961?refId=frwg5uNYaGelovQ22c0N9A%3D%3D&trackingId=L%2B%2FZHU%2Bgg9s9uouJasRrIg%3D%3D&position=17&pageNum=0&trk=public_jobs_jserp-result_search-card',\n",
       " 'https://ae.linkedin.com/jobs/view/frontend-engineer-customer-happiness-at-%D8%AA%D8%A7%D8%A8%D9%8A-3794093537?refId=frwg5uNYaGelovQ22c0N9A%3D%3D&trackingId=z5arlQi78VkcrgJvYkTCUQ%3D%3D&position=18&pageNum=0&trk=public_jobs_jserp-result_search-card',\n",
       " 'https://ae.linkedin.com/jobs/view/frontend-engineer-scoring-at-%D8%AA%D8%A7%D8%A8%D9%8A-3794095497?refId=frwg5uNYaGelovQ22c0N9A%3D%3D&trackingId=2xtbRmwu7fhDMWjWTiyZlA%3D%3D&position=19&pageNum=0&trk=public_jobs_jserp-result_search-card',\n",
       " 'https://ae.linkedin.com/jobs/view/unreal-engineer-at-belmont-lavan-3719404778?refId=frwg5uNYaGelovQ22c0N9A%3D%3D&trackingId=a95lz34W%2Fcb3Wtbo62%2BQKA%3D%3D&position=20&pageNum=0&trk=public_jobs_jserp-result_search-card',\n",
       " 'https://ae.linkedin.com/jobs/view/net-backend-developer-microservices-architecture-at-brixio-3791415394?refId=frwg5uNYaGelovQ22c0N9A%3D%3D&trackingId=RTF%2BSRKrTSHQPg0L5Ugl%2Bw%3D%3D&position=21&pageNum=0&trk=public_jobs_jserp-result_search-card',\n",
       " 'https://ae.linkedin.com/jobs/view/software-engineer-solutions-engineering-at-canonical-3784202883?refId=frwg5uNYaGelovQ22c0N9A%3D%3D&trackingId=6h%2FLTQgr86Cs%2BMMWlzq1nw%3D%3D&position=22&pageNum=0&trk=public_jobs_jserp-result_search-card',\n",
       " 'https://ae.linkedin.com/jobs/view/algorithm-developer-remote-at-nybl-3598190087?refId=frwg5uNYaGelovQ22c0N9A%3D%3D&trackingId=URckDls8FFIRtFBGwhGgYA%3D%3D&position=23&pageNum=0&trk=public_jobs_jserp-result_search-card',\n",
       " 'https://ae.linkedin.com/jobs/view/python-engineer-at-canonical-3745348244?refId=frwg5uNYaGelovQ22c0N9A%3D%3D&trackingId=mfMsL7btmWLg9VQmla3nMw%3D%3D&position=24&pageNum=0&trk=public_jobs_jserp-result_search-card',\n",
       " 'https://ae.linkedin.com/jobs/view/software-engineer-python-linux-packaging-at-canonical-3797469303?refId=frwg5uNYaGelovQ22c0N9A%3D%3D&trackingId=clgQOxST5rjHVq%2FgPBJm%2FA%3D%3D&position=25&pageNum=0&trk=public_jobs_jserp-result_search-card',\n",
       " 'https://ae.linkedin.com/jobs/view/ml-engineer-ml-squad-at-%D8%AA%D8%A7%D8%A8%D9%8A-3786727182?refId=qrkGR9IY7IQaT4724pzlnQ%3D%3D&trackingId=IxYlA%2B1%2BT575uXPhdShCow%3D%3D&position=1&pageNum=1&trk=public_jobs_jserp-result_search-card',\n",
       " 'https://ae.linkedin.com/jobs/view/data-engineer-dwh-team-at-%D8%AA%D8%A7%D8%A8%D9%8A-3787800069?refId=qrkGR9IY7IQaT4724pzlnQ%3D%3D&trackingId=lEcYKRQhgRJ7OY%2B757k60w%3D%3D&position=2&pageNum=1&trk=public_jobs_jserp-result_search-card',\n",
       " 'https://ae.linkedin.com/jobs/view/back-end-symfony-developer-at-brixio-3796993129?refId=qrkGR9IY7IQaT4724pzlnQ%3D%3D&trackingId=99QqQe%2BResJ09EgYewYsgA%3D%3D&position=3&pageNum=1&trk=public_jobs_jserp-result_search-card',\n",
       " 'https://ae.linkedin.com/jobs/view/staff-fullstack-engineer-at-consensys-3776985261?refId=qrkGR9IY7IQaT4724pzlnQ%3D%3D&trackingId=GoZK03xpElSYcDYptKOZ5A%3D%3D&position=4&pageNum=1&trk=public_jobs_jserp-result_search-card',\n",
       " 'https://ae.linkedin.com/jobs/view/frontend-engineer-scoring-team-at-%D8%AA%D8%A7%D8%A8%D9%8A-3794099081?refId=qrkGR9IY7IQaT4724pzlnQ%3D%3D&trackingId=Wr0ApJrU02Lwvq%2FEGIuYfQ%3D%3D&position=5&pageNum=1&trk=public_jobs_jserp-result_search-card',\n",
       " 'https://ae.linkedin.com/jobs/view/software-engineer-saas-launchpad-net-at-canonical-3801882279?refId=qrkGR9IY7IQaT4724pzlnQ%3D%3D&trackingId=uKpOmFouxeEeEwaOuRNwIw%3D%3D&position=6&pageNum=1&trk=public_jobs_jserp-result_search-card',\n",
       " 'https://ae.linkedin.com/jobs/view/android-developer-security-product-at-yinkozi-ltd-3744796655?refId=qrkGR9IY7IQaT4724pzlnQ%3D%3D&trackingId=x%2FDLEVP837HhGo%2F76pzvEQ%3D%3D&position=7&pageNum=1&trk=public_jobs_jserp-result_search-card',\n",
       " 'https://ae.linkedin.com/jobs/view/software-engineer-telemetry-at-canonical-3801879554?refId=qrkGR9IY7IQaT4724pzlnQ%3D%3D&trackingId=IKUE47QWaGe%2BLehc54pp%2Fg%3D%3D&position=8&pageNum=1&trk=public_jobs_jserp-result_search-card',\n",
       " 'https://ae.linkedin.com/jobs/view/software-engineer-digital-workplace-at-canonical-3718951907?refId=qrkGR9IY7IQaT4724pzlnQ%3D%3D&trackingId=lG1N4hPqCNK7KWm2j3oYTA%3D%3D&position=9&pageNum=1&trk=public_jobs_jserp-result_search-card',\n",
       " 'https://ae.linkedin.com/jobs/view/backend-golang-developer-at-trust-wallet-3791762692?refId=qrkGR9IY7IQaT4724pzlnQ%3D%3D&trackingId=6KFRAKuwHhvqRauIv6T74A%3D%3D&position=10&pageNum=1&trk=public_jobs_jserp-result_search-card',\n",
       " 'https://ae.linkedin.com/jobs/view/data-engineer-data-service-team-at-%D8%AA%D8%A7%D8%A8%D9%8A-3787295550?refId=qrkGR9IY7IQaT4724pzlnQ%3D%3D&trackingId=pj3SzfksHwJXxKnsPc2oOw%3D%3D&position=11&pageNum=1&trk=public_jobs_jserp-result_search-card',\n",
       " 'https://ae.linkedin.com/jobs/view/senior-frontend-engineer-at-consensys-3776980951?refId=qrkGR9IY7IQaT4724pzlnQ%3D%3D&trackingId=YzJ%2FiQKxuFHlRj3Lt2tBjg%3D%3D&position=12&pageNum=1&trk=public_jobs_jserp-result_search-card',\n",
       " 'https://ae.linkedin.com/jobs/view/full-stack-engineer-trilogy-remote-%24100-000-year-usd-at-crossover-3801845650?refId=qrkGR9IY7IQaT4724pzlnQ%3D%3D&trackingId=SMKhiIswNwjuMS8%2FPiLzaQ%3D%3D&position=13&pageNum=1&trk=public_jobs_jserp-result_search-card',\n",
       " 'https://ae.linkedin.com/jobs/view/software-engineer-linux-python-or-go-container-images-at-canonical-3767698415?refId=qrkGR9IY7IQaT4724pzlnQ%3D%3D&trackingId=Yqf6bh52eicixqc4Qk9SYQ%3D%3D&position=14&pageNum=1&trk=public_jobs_jserp-result_search-card',\n",
       " 'https://ae.linkedin.com/jobs/view/back-end-developer-trilogy-remote-%24100-000-year-usd-at-crossover-3801851426?refId=qrkGR9IY7IQaT4724pzlnQ%3D%3D&trackingId=qLTLBbAzPOaWByElDeXKlw%3D%3D&position=15&pageNum=1&trk=public_jobs_jserp-result_search-card',\n",
       " 'https://ae.linkedin.com/jobs/view/back-end-developer-trilogy-remote-%24100-000-year-usd-at-crossover-3801851221?refId=qrkGR9IY7IQaT4724pzlnQ%3D%3D&trackingId=1ymjlxzXUM4O3ZskaQovRg%3D%3D&position=16&pageNum=1&trk=public_jobs_jserp-result_search-card',\n",
       " 'https://ae.linkedin.com/jobs/view/embedded-linux-software-engineer-at-canonical-3767323226?refId=qrkGR9IY7IQaT4724pzlnQ%3D%3D&trackingId=%2FbsUtj7XoM%2Fe%2BvRGrnQ7Iw%3D%3D&position=17&pageNum=1&trk=public_jobs_jserp-result_search-card',\n",
       " 'https://ae.linkedin.com/jobs/view/full-stack-engineer-trilogy-remote-%24100-000-year-usd-at-crossover-3801847458?refId=qrkGR9IY7IQaT4724pzlnQ%3D%3D&trackingId=Tsf1sDJciGiysouWrUQ2qA%3D%3D&position=18&pageNum=1&trk=public_jobs_jserp-result_search-card',\n",
       " 'https://ae.linkedin.com/jobs/view/ml-engineer-search-personalization-at-%D8%AA%D8%A7%D8%A8%D9%8A-3786726210?refId=qrkGR9IY7IQaT4724pzlnQ%3D%3D&trackingId=V5Tk3M2TiDmSfAheglzA%2Bw%3D%3D&position=19&pageNum=1&trk=public_jobs_jserp-result_search-card',\n",
       " 'https://ae.linkedin.com/jobs/view/staff-backend-engineer-nodejs-go-at-yassir-3780028404?refId=qrkGR9IY7IQaT4724pzlnQ%3D%3D&trackingId=YzEq%2BMWbeVU%2FDDr6LitzrQ%3D%3D&position=20&pageNum=1&trk=public_jobs_jserp-result_search-card',\n",
       " 'https://ae.linkedin.com/jobs/view/sitecore-developer-remote-opportunity-at-xische-co-3765954242?refId=qrkGR9IY7IQaT4724pzlnQ%3D%3D&trackingId=QggCJQzSufZcYvl0rn49Xg%3D%3D&position=21&pageNum=1&trk=public_jobs_jserp-result_search-card',\n",
       " 'https://ae.linkedin.com/jobs/view/software-engineer-python-golang-kubernetes-at-canonical-3768271648?refId=qrkGR9IY7IQaT4724pzlnQ%3D%3D&trackingId=ptuq70ovpUYud9jEGIcO2g%3D%3D&position=22&pageNum=1&trk=public_jobs_jserp-result_search-card',\n",
       " 'https://ae.linkedin.com/jobs/view/software-engineer-python-and-k8s-at-canonical-3738246097?refId=qrkGR9IY7IQaT4724pzlnQ%3D%3D&trackingId=PGuqBIUX0YYKZTyVeCXUmw%3D%3D&position=23&pageNum=1&trk=public_jobs_jserp-result_search-card',\n",
       " 'https://ae.linkedin.com/jobs/view/senior-backend-engineer-net-at-omniscript-software-solutions-at-join-com-3806512403?refId=qrkGR9IY7IQaT4724pzlnQ%3D%3D&trackingId=gMrZGXA%2Fm%2B85HE7YA57ubw%3D%3D&position=24&pageNum=1&trk=public_jobs_jserp-result_search-card',\n",
       " 'https://ae.linkedin.com/jobs/view/senior-android-engineer-at-trust-wallet-3792935215?refId=qrkGR9IY7IQaT4724pzlnQ%3D%3D&trackingId=LIF78QHnfQJ3%2F5DZ03iEMA%3D%3D&position=25&pageNum=1&trk=public_jobs_jserp-result_search-card',\n",
       " 'https://ae.linkedin.com/jobs/view/senior-frontend-engineer-at-consensys-3746617839?refId=fSURC4aNjVDcUzBkWI72GA%3D%3D&trackingId=FXyLFmePaYGtfw95Jo9jLw%3D%3D&position=1&pageNum=2&trk=public_jobs_jserp-result_search-card',\n",
       " 'https://ae.linkedin.com/jobs/view/software-engineer-data-infrastructure-at-canonical-3782021313?refId=fSURC4aNjVDcUzBkWI72GA%3D%3D&trackingId=UOC8jiThuBaWy%2BvF8NMA3Q%3D%3D&position=2&pageNum=2&trk=public_jobs_jserp-result_search-card',\n",
       " 'https://ae.linkedin.com/jobs/view/back-end-developer-totogi-remote-%24100-000-year-usd-at-crossover-3801852321?refId=fSURC4aNjVDcUzBkWI72GA%3D%3D&trackingId=MNaNZ%2BOneSdvcTveWFXQjw%3D%3D&position=3&pageNum=2&trk=public_jobs_jserp-result_search-card',\n",
       " 'https://ae.linkedin.com/jobs/view/juju-software-engineer-go-at-canonical-3783906670?refId=fSURC4aNjVDcUzBkWI72GA%3D%3D&trackingId=EhEEfMr7BIGeSqvMGi5Q6Q%3D%3D&position=4&pageNum=2&trk=public_jobs_jserp-result_search-card',\n",
       " 'https://ae.linkedin.com/jobs/view/software-engineer-openstack-at-canonical-3726119674?refId=fSURC4aNjVDcUzBkWI72GA%3D%3D&trackingId=MOPaN7lXcoZ%2FXAg3IQt3mw%3D%3D&position=5&pageNum=2&trk=public_jobs_jserp-result_search-card',\n",
       " 'https://ae.linkedin.com/jobs/view/golang-engineer-remote-at-persistence-labs-3720987534?refId=fSURC4aNjVDcUzBkWI72GA%3D%3D&trackingId=eaLTBYb26PEPlRTyMoPXAQ%3D%3D&position=6&pageNum=2&trk=public_jobs_jserp-result_search-card',\n",
       " 'https://ae.linkedin.com/jobs/view/software-engineer-identity-management-for-canonical-products-at-canonical-3801881300?refId=fSURC4aNjVDcUzBkWI72GA%3D%3D&trackingId=4og4LRkubN8uxU8D5jZcsA%3D%3D&position=7&pageNum=2&trk=public_jobs_jserp-result_search-card',\n",
       " 'https://ae.linkedin.com/jobs/view/staff-software-engineer-at-consensys-3743013089?refId=fSURC4aNjVDcUzBkWI72GA%3D%3D&trackingId=B86wu8T8GO1Wb6%2FcRlXP0w%3D%3D&position=8&pageNum=2&trk=public_jobs_jserp-result_search-card',\n",
       " 'https://ae.linkedin.com/jobs/view/software-defined-networking-engineer-at-canonical-3740234708?refId=fSURC4aNjVDcUzBkWI72GA%3D%3D&trackingId=wLOFuCQ8KsZhN6BAqcG09w%3D%3D&position=9&pageNum=2&trk=public_jobs_jserp-result_search-card',\n",
       " 'https://ae.linkedin.com/jobs/view/machine-learning-operations-ml-ops-engineer-team-lead-at-brixio-3791409552?refId=fSURC4aNjVDcUzBkWI72GA%3D%3D&trackingId=MmWyrt7XrCZJDN7V7rFrhg%3D%3D&position=10&pageNum=2&trk=public_jobs_jserp-result_search-card',\n",
       " 'https://ae.linkedin.com/jobs/view/linux-system-engineer-raspberry-pi-at-canonical-3784873937?refId=fSURC4aNjVDcUzBkWI72GA%3D%3D&trackingId=gwIhjXWjpFQNrVoBZCbgrQ%3D%3D&position=11&pageNum=2&trk=public_jobs_jserp-result_search-card',\n",
       " 'https://ae.linkedin.com/jobs/view/microservices-engineer-at-canonical-3781861040?refId=fSURC4aNjVDcUzBkWI72GA%3D%3D&trackingId=Ff86i8D3ISfRxdW%2BdPjj0g%3D%3D&position=12&pageNum=2&trk=public_jobs_jserp-result_search-card',\n",
       " 'https://ae.linkedin.com/jobs/view/linux-system-engineer-risc-v-at-canonical-3699068728?refId=fSURC4aNjVDcUzBkWI72GA%3D%3D&trackingId=prueeGZqqCfb6MAgAetlpw%3D%3D&position=13&pageNum=2&trk=public_jobs_jserp-result_search-card',\n",
       " 'https://ae.linkedin.com/jobs/view/ios-engineer-security-product-at-yinkozi-ltd-3744796531?refId=fSURC4aNjVDcUzBkWI72GA%3D%3D&trackingId=9A0NWURgbPFj64MvLeGEJA%3D%3D&position=14&pageNum=2&trk=public_jobs_jserp-result_search-card',\n",
       " 'https://ae.linkedin.com/jobs/view/c%2B%2B-graphics-and-windowing-system-software-engineer-mir-at-canonical-3661202557?refId=fSURC4aNjVDcUzBkWI72GA%3D%3D&trackingId=mWfn%2BVoxMx0%2B3DnXvAx63w%3D%3D&position=15&pageNum=2&trk=public_jobs_jserp-result_search-card',\n",
       " 'https://ae.linkedin.com/jobs/view/software-engineer-commercial-systems-at-canonical-3797970754?refId=fSURC4aNjVDcUzBkWI72GA%3D%3D&trackingId=OCyX1H8uVwhdkkUeEY4qfg%3D%3D&position=16&pageNum=2&trk=public_jobs_jserp-result_search-card',\n",
       " 'https://ae.linkedin.com/jobs/view/security-software-engineer-at-canonical-3782018680?refId=fSURC4aNjVDcUzBkWI72GA%3D%3D&trackingId=ABZVI1WS9qXK7ugWEoKUIw%3D%3D&position=17&pageNum=2&trk=public_jobs_jserp-result_search-card',\n",
       " 'https://ae.linkedin.com/jobs/view/senior-android-developer-freelance-at-red-jaguar-marketing-3781898746?refId=fSURC4aNjVDcUzBkWI72GA%3D%3D&trackingId=b1h8%2BiSsitLe3LCIW6uzpw%3D%3D&position=18&pageNum=2&trk=public_jobs_jserp-result_search-card',\n",
       " 'https://ae.linkedin.com/jobs/view/system-software-engineer-ubuntu-networking-at-canonical-3775330119?refId=fSURC4aNjVDcUzBkWI72GA%3D%3D&trackingId=vE3l%2FSdYs2WmfUhxn55TKA%3D%3D&position=19&pageNum=2&trk=public_jobs_jserp-result_search-card',\n",
       " 'https://ae.linkedin.com/jobs/view/senior-solutions-engineer-remote-at-polygon-labs-3758134025?refId=fSURC4aNjVDcUzBkWI72GA%3D%3D&trackingId=vfoMmAiKiWFvLuCSKgrDyQ%3D%3D&position=20&pageNum=2&trk=public_jobs_jserp-result_search-card',\n",
       " 'https://ae.linkedin.com/jobs/view/go-software-engineer-commercial-systems-at-canonical-3797969881?refId=fSURC4aNjVDcUzBkWI72GA%3D%3D&trackingId=T4hPKCZZrAokpgHziUDfNw%3D%3D&position=21&pageNum=2&trk=public_jobs_jserp-result_search-card',\n",
       " 'https://ae.linkedin.com/jobs/view/software-engineer-data-infrastructure-kafka-at-canonical-3782760110?refId=fSURC4aNjVDcUzBkWI72GA%3D%3D&trackingId=nF4NboT%2Bw%2B1zoYyjQ6hXuA%3D%3D&position=22&pageNum=2&trk=public_jobs_jserp-result_search-card',\n",
       " 'https://ae.linkedin.com/jobs/view/senior-support-software-engineer-saudi-arabia-at-canonical-3797975211?refId=fSURC4aNjVDcUzBkWI72GA%3D%3D&trackingId=lBNYNnv7PzEc0hDV68wIsg%3D%3D&position=23&pageNum=2&trk=public_jobs_jserp-result_search-card',\n",
       " 'https://ae.linkedin.com/jobs/view/ms-dynamics-crm-developer-at-zone-it-solutions-3796461835?refId=fSURC4aNjVDcUzBkWI72GA%3D%3D&trackingId=Wcuc0IS%2FyyVJUYZmByS3bw%3D%3D&position=24&pageNum=2&trk=public_jobs_jserp-result_search-card',\n",
       " 'https://ae.linkedin.com/jobs/view/senior-software-engineer-at-canonical-3797071417?refId=fSURC4aNjVDcUzBkWI72GA%3D%3D&trackingId=7WQPzwNQenmsimkgFKW6OQ%3D%3D&position=25&pageNum=2&trk=public_jobs_jserp-result_search-card',\n",
       " 'https://ae.linkedin.com/jobs/view/head-of-software-development-ai-enhanced-processes-trilogy-remote-%24400-000-year-usd-at-crossover-3801848787?refId=BRmAXNCh6uPzNRXA3YQOTQ%3D%3D&trackingId=LP4atQm5IPqT5LIBwCKQZw%3D%3D&position=1&pageNum=3&trk=public_jobs_jserp-result_search-card',\n",
       " 'https://ae.linkedin.com/jobs/view/senior-web-engineer-at-canonical-3766034792?refId=BRmAXNCh6uPzNRXA3YQOTQ%3D%3D&trackingId=uSSZBAi%2BezQnokfHLQteDQ%3D%3D&position=2&pageNum=3&trk=public_jobs_jserp-result_search-card',\n",
       " 'https://ae.linkedin.com/jobs/view/development-lifecycle-engineer-at-canonical-3688794728?refId=BRmAXNCh6uPzNRXA3YQOTQ%3D%3D&trackingId=62hyONsHO0%2BqSOE7357IuQ%3D%3D&position=3&pageNum=3&trk=public_jobs_jserp-result_search-card',\n",
       " 'https://ae.linkedin.com/jobs/view/lead-software-engineer-trilogy-remote-%24100-000-year-usd-at-crossover-3801852037?refId=BRmAXNCh6uPzNRXA3YQOTQ%3D%3D&trackingId=jOB8eEQ3HWa96Yzsv3v07g%3D%3D&position=4&pageNum=3&trk=public_jobs_jserp-result_search-card',\n",
       " 'https://ae.linkedin.com/jobs/view/golang-engineer-relocation-to-abu-dhabi-at-umatr-3803881860?refId=BRmAXNCh6uPzNRXA3YQOTQ%3D%3D&trackingId=DT1180eHm%2FrZ0S6Qbk2L1w%3D%3D&position=5&pageNum=3&trk=public_jobs_jserp-result_search-card',\n",
       " 'https://ae.linkedin.com/jobs/view/devops-engineer-virtasant-remote-%2460-000-year-usd-at-crossover-3801847771?refId=BRmAXNCh6uPzNRXA3YQOTQ%3D%3D&trackingId=gmzTh8Lej5CJGL4nmOnkGQ%3D%3D&position=6&pageNum=3&trk=public_jobs_jserp-result_search-card',\n",
       " 'https://ae.linkedin.com/jobs/view/lead-software-engineer-trilogy-remote-%24100-000-year-usd-at-crossover-3801847662?refId=BRmAXNCh6uPzNRXA3YQOTQ%3D%3D&trackingId=umYmLpd4tjBPdvbOqAVoTw%3D%3D&position=7&pageNum=3&trk=public_jobs_jserp-result_search-card',\n",
       " 'https://ae.linkedin.com/jobs/view/lead-software-engineer-trilogy-remote-%24100-000-year-usd-at-crossover-3801849219?refId=BRmAXNCh6uPzNRXA3YQOTQ%3D%3D&trackingId=5FocmR7QhqL1br0DmfuIKw%3D%3D&position=8&pageNum=3&trk=public_jobs_jserp-result_search-card',\n",
       " 'https://ae.linkedin.com/jobs/view/software-engineer-ai-powered-development-trilogy-remote-%24200-000-year-usd-at-crossover-3801848826?refId=BRmAXNCh6uPzNRXA3YQOTQ%3D%3D&trackingId=08WCknrUB0wPqnMyefKWuw%3D%3D&position=9&pageNum=3&trk=public_jobs_jserp-result_search-card',\n",
       " 'https://ae.linkedin.com/jobs/view/rust-engineer-defi-innovation-remote-at-keyrock-3759634420?refId=BRmAXNCh6uPzNRXA3YQOTQ%3D%3D&trackingId=Ub1Cnec40JqpRF%2FIvSY6WA%3D%3D&position=10&pageNum=3&trk=public_jobs_jserp-result_search-card',\n",
       " 'https://ae.linkedin.com/jobs/view/senior-automation-engineer-at-keyrock-3754251402?refId=BRmAXNCh6uPzNRXA3YQOTQ%3D%3D&trackingId=ZkJu7bnPbRT8dVuXi0Z5CA%3D%3D&position=11&pageNum=3&trk=public_jobs_jserp-result_search-card',\n",
       " 'https://ae.linkedin.com/jobs/view/senior-software-engineer-trilogy-remote-%24100-000-year-usd-at-crossover-3801846893?refId=BRmAXNCh6uPzNRXA3YQOTQ%3D%3D&trackingId=4oB4fCXesxtMHfogNNIfPw%3D%3D&position=12&pageNum=3&trk=public_jobs_jserp-result_search-card',\n",
       " 'https://ae.linkedin.com/jobs/view/senior-frontend-developer-totogi-remote-%24100-000-year-usd-at-crossover-3801848648?refId=BRmAXNCh6uPzNRXA3YQOTQ%3D%3D&trackingId=rVHEn00m2iaEruPjgXZBTg%3D%3D&position=13&pageNum=3&trk=public_jobs_jserp-result_search-card',\n",
       " 'https://ae.linkedin.com/jobs/view/senior-software-engineer-trilogy-remote-%24100-000-year-usd-at-crossover-3801856183?refId=BRmAXNCh6uPzNRXA3YQOTQ%3D%3D&trackingId=XXI4snSeuM4jVldHlhmi4w%3D%3D&position=14&pageNum=3&trk=public_jobs_jserp-result_search-card',\n",
       " 'https://ae.linkedin.com/jobs/view/embedded-desktop-linux-systems-engineer-optimisation-at-canonical-3733855284?refId=BRmAXNCh6uPzNRXA3YQOTQ%3D%3D&trackingId=3EaJ7XxK5OGuw%2BxMubiv2g%3D%3D&position=15&pageNum=3&trk=public_jobs_jserp-result_search-card',\n",
       " 'https://ae.linkedin.com/jobs/view/developer-relations-engineer-at-canonical-3797466392?refId=BRmAXNCh6uPzNRXA3YQOTQ%3D%3D&trackingId=BdqNlfJfhA8KEingRxzCgg%3D%3D&position=16&pageNum=3&trk=public_jobs_jserp-result_search-card',\n",
       " 'https://ae.linkedin.com/jobs/view/senior-linux-engineer-at-eqvilent-3744808466?refId=BRmAXNCh6uPzNRXA3YQOTQ%3D%3D&trackingId=IRdpzlbjVuleiSXOZXKouA%3D%3D&position=17&pageNum=3&trk=public_jobs_jserp-result_search-card',\n",
       " 'https://ae.linkedin.com/jobs/view/infrastructure-performance-engineer-at-eqvilent-3682963045?refId=BRmAXNCh6uPzNRXA3YQOTQ%3D%3D&trackingId=KBqVT%2FY%2FhEK25gxwXoXdyw%3D%3D&position=18&pageNum=3&trk=public_jobs_jserp-result_search-card',\n",
       " 'https://ae.linkedin.com/jobs/view/cloud-support-engineer-at-canonical-3758460602?refId=BRmAXNCh6uPzNRXA3YQOTQ%3D%3D&trackingId=NXq5OZcJv8vqXPVVP6IXLQ%3D%3D&position=19&pageNum=3&trk=public_jobs_jserp-result_search-card',\n",
       " 'https://ae.linkedin.com/jobs/view/senior-software-engineer-trilogy-remote-%24100-000-year-usd-at-crossover-3801849288?refId=BRmAXNCh6uPzNRXA3YQOTQ%3D%3D&trackingId=L%2Fl%2F6vgHcvYDBEQYZC%2B%2FUA%3D%3D&position=20&pageNum=3&trk=public_jobs_jserp-result_search-card',\n",
       " 'https://ae.linkedin.com/jobs/view/developer-relations-engineer-at-canonical-3800031392?refId=BRmAXNCh6uPzNRXA3YQOTQ%3D%3D&trackingId=YKYBuHd6qH5lfJeNEc0ppQ%3D%3D&position=21&pageNum=3&trk=public_jobs_jserp-result_search-card',\n",
       " 'https://ae.linkedin.com/jobs/view/lead-software-engineer-trilogy-remote-%24200-000-year-usd-at-crossover-3802221902?refId=BRmAXNCh6uPzNRXA3YQOTQ%3D%3D&trackingId=BzfEoJx7tIvj6gLP2PKagA%3D%3D&position=22&pageNum=3&trk=public_jobs_jserp-result_search-card',\n",
       " 'https://ae.linkedin.com/jobs/view/linux-cryptography-and-security-engineer-at-canonical-3782098504?refId=BRmAXNCh6uPzNRXA3YQOTQ%3D%3D&trackingId=ye73%2Fa%2FP89obiG5IjkWXmw%3D%3D&position=23&pageNum=3&trk=public_jobs_jserp-result_search-card',\n",
       " 'https://ae.linkedin.com/jobs/view/software-engineer-ubuntu-server-virtualization-and-containerization-at-canonical-3671493405?refId=BRmAXNCh6uPzNRXA3YQOTQ%3D%3D&trackingId=aVFlV%2Fdet3VUbkgfdpmwvA%3D%3D&position=24&pageNum=3&trk=public_jobs_jserp-result_search-card',\n",
       " 'https://ae.linkedin.com/jobs/view/lead-software-engineer-trilogy-remote-%24200-000-year-usd-at-crossover-3801852347?refId=BRmAXNCh6uPzNRXA3YQOTQ%3D%3D&trackingId=FrEx6QsiXN22mTL%2FXbMxnQ%3D%3D&position=25&pageNum=3&trk=public_jobs_jserp-result_search-card',\n",
       " 'https://ae.linkedin.com/jobs/view/senior-software-engineer-trilogy-remote-%24100-000-year-usd-at-crossover-3801854266?refId=QVR7LMMoIgf%2BjIdKy50gYg%3D%3D&trackingId=AJvPom7wGhxDntOFE9zdqQ%3D%3D&position=1&pageNum=4&trk=public_jobs_jserp-result_search-card',\n",
       " 'https://ae.linkedin.com/jobs/view/lead-software-engineer-trilogy-remote-%24200-000-year-usd-at-crossover-3801847945?refId=QVR7LMMoIgf%2BjIdKy50gYg%3D%3D&trackingId=CW4oQmTGuxefE8EMTq7MiQ%3D%3D&position=2&pageNum=4&trk=public_jobs_jserp-result_search-card',\n",
       " 'https://ae.linkedin.com/jobs/view/senior-engineer-at-canonical-3772498916?refId=QVR7LMMoIgf%2BjIdKy50gYg%3D%3D&trackingId=lsP4KT%2FZTGDDAZtJnzuobQ%3D%3D&position=3&pageNum=4&trk=public_jobs_jserp-result_search-card',\n",
       " 'https://ae.linkedin.com/jobs/view/senior-developer-trilogy-remote-%24100-000-year-usd-at-crossover-3801856146?refId=QVR7LMMoIgf%2BjIdKy50gYg%3D%3D&trackingId=hsc58%2FN62%2BGEi8uXPYPK5A%3D%3D&position=4&pageNum=4&trk=public_jobs_jserp-result_search-card',\n",
       " 'https://ae.linkedin.com/jobs/view/senior-solutions-engineer-at-mambu-3782743805?refId=QVR7LMMoIgf%2BjIdKy50gYg%3D%3D&trackingId=IL6PssSQRxcGJJp1mbhWrA%3D%3D&position=5&pageNum=4&trk=public_jobs_jserp-result_search-card',\n",
       " 'https://ae.linkedin.com/jobs/view/senior-full-stack-symfony-php-developer-at-cobbleweb-the-online-marketplace-experts-3800261453?refId=QVR7LMMoIgf%2BjIdKy50gYg%3D%3D&trackingId=4Md%2FNDT0pNSl0rFQ%2FXk3ow%3D%3D&position=6&pageNum=4&trk=public_jobs_jserp-result_search-card',\n",
       " 'https://ae.linkedin.com/jobs/view/software-engineer-data-infrastructure-opensearch-elasticsearch-at-canonical-3782021314?refId=QVR7LMMoIgf%2BjIdKy50gYg%3D%3D&trackingId=HVYbWX5%2Bg%2BWbLXPvKgq9%2Bw%3D%3D&position=7&pageNum=4&trk=public_jobs_jserp-result_search-card',\n",
       " 'https://ae.linkedin.com/jobs/view/senior-software-engineer-digital-workplace-at-canonical-3661737555?refId=QVR7LMMoIgf%2BjIdKy50gYg%3D%3D&trackingId=wKxcYx5G0gslIBwfanEVVA%3D%3D&position=8&pageNum=4&trk=public_jobs_jserp-result_search-card',\n",
       " 'https://ae.linkedin.com/jobs/view/senior-developer-trilogy-remote-%24100-000-year-usd-at-crossover-3801845648?refId=QVR7LMMoIgf%2BjIdKy50gYg%3D%3D&trackingId=43NBda5BJFYpgP6KqJv3PA%3D%3D&position=9&pageNum=4&trk=public_jobs_jserp-result_search-card',\n",
       " 'https://ae.linkedin.com/jobs/view/system-software-engineer-rust-compiler-tooling-and-ecosystem-at-canonical-3687334538?refId=QVR7LMMoIgf%2BjIdKy50gYg%3D%3D&trackingId=msWEi5YhKEZQbH4YcOlh2A%3D%3D&position=10&pageNum=4&trk=public_jobs_jserp-result_search-card',\n",
       " 'https://ae.linkedin.com/jobs/view/data-scientist-trilogy-remote-%24100-000-year-usd-at-crossover-3801848424?refId=QVR7LMMoIgf%2BjIdKy50gYg%3D%3D&trackingId=srje5ofg8fZ0Y%2FXShhq1Kw%3D%3D&position=11&pageNum=4&trk=public_jobs_jserp-result_search-card',\n",
       " 'https://ae.linkedin.com/jobs/view/senior-principal-software-engineer-trilogy-remote-%24200-000-year-usd-at-crossover-3801849489?refId=QVR7LMMoIgf%2BjIdKy50gYg%3D%3D&trackingId=vCUD9%2Fu7NALCB4%2B1xgsaxg%3D%3D&position=12&pageNum=4&trk=public_jobs_jserp-result_search-card',\n",
       " 'https://ae.linkedin.com/jobs/view/senior-software-engineer-embedded-desktop-linux-optimisation-at-canonical-3643419640?refId=QVR7LMMoIgf%2BjIdKy50gYg%3D%3D&trackingId=BUOnLSbsd%2FZ08HZw1u%2Bz1g%3D%3D&position=13&pageNum=4&trk=public_jobs_jserp-result_search-card',\n",
       " 'https://ae.linkedin.com/jobs/view/senior-software-engineer-maas-at-canonical-3733856252?refId=QVR7LMMoIgf%2BjIdKy50gYg%3D%3D&trackingId=25%2BBMKLbdPjzriT7Wd8iLA%3D%3D&position=14&pageNum=4&trk=public_jobs_jserp-result_search-card',\n",
       " 'https://ae.linkedin.com/jobs/view/lead-ai-ml-infrastructure-engineer-at-aixplain-3785093198?refId=QVR7LMMoIgf%2BjIdKy50gYg%3D%3D&trackingId=OaS%2BnQBloJXKI5QcL82X7A%3D%3D&position=15&pageNum=4&trk=public_jobs_jserp-result_search-card',\n",
       " 'https://ae.linkedin.com/jobs/view/security-engineer-ubuntu-at-canonical-3725446692?refId=QVR7LMMoIgf%2BjIdKy50gYg%3D%3D&trackingId=wnQOG5dAfcR1PNxf0CwOqg%3D%3D&position=16&pageNum=4&trk=public_jobs_jserp-result_search-card',\n",
       " 'https://ae.linkedin.com/jobs/view/senior-mobile-engineer-platform-at-consensys-3749548834?refId=QVR7LMMoIgf%2BjIdKy50gYg%3D%3D&trackingId=ADebZGRLK3%2BYi8CFFSAacg%3D%3D&position=17&pageNum=4&trk=public_jobs_jserp-result_search-card',\n",
       " 'https://ae.linkedin.com/jobs/view/senior-devops-engineer-at-consensys-3783874105?refId=QVR7LMMoIgf%2BjIdKy50gYg%3D%3D&trackingId=DB4TMNI7EUL5X4a4o5452g%3D%3D&position=18&pageNum=4&trk=public_jobs_jserp-result_search-card',\n",
       " 'https://ae.linkedin.com/jobs/view/golang-engineer-at-allegians-3673086764?refId=QVR7LMMoIgf%2BjIdKy50gYg%3D%3D&trackingId=DJuuM98A8IlUGlRYV4NSRg%3D%3D&position=19&pageNum=4&trk=public_jobs_jserp-result_search-card',\n",
       " 'https://ae.linkedin.com/jobs/view/senior-engineer-general-track-at-canonical-3734790030?refId=QVR7LMMoIgf%2BjIdKy50gYg%3D%3D&trackingId=5b0h4k0XGwDfh7JISxpR2g%3D%3D&position=20&pageNum=4&trk=public_jobs_jserp-result_search-card',\n",
       " 'https://ae.linkedin.com/jobs/view/senior-bootloader-system-engineer-ubuntu-linux-at-canonical-3688090676?refId=QVR7LMMoIgf%2BjIdKy50gYg%3D%3D&trackingId=zHdFuNacFrVx5%2BxMqDb%2BuA%3D%3D&position=21&pageNum=4&trk=public_jobs_jserp-result_search-card',\n",
       " 'https://ae.linkedin.com/jobs/view/golang-system-software-engineer-containers-virtualisation-at-canonical-3768280074?refId=QVR7LMMoIgf%2BjIdKy50gYg%3D%3D&trackingId=13Qkn5AKxFhTdm84ohbUOQ%3D%3D&position=22&pageNum=4&trk=public_jobs_jserp-result_search-card',\n",
       " 'https://ae.linkedin.com/jobs/view/senior-site-reliability-engineer-at-nodeshift-3794012317?refId=QVR7LMMoIgf%2BjIdKy50gYg%3D%3D&trackingId=CZ2qjBu0bpAjytcyU1dHGg%3D%3D&position=23&pageNum=4&trk=public_jobs_jserp-result_search-card',\n",
       " 'https://ae.linkedin.com/jobs/view/senior-rust-engineer-remote-at-persistence-labs-3720985849?refId=QVR7LMMoIgf%2BjIdKy50gYg%3D%3D&trackingId=N47v9tWCKx11OzaXtpCQyA%3D%3D&position=24&pageNum=4&trk=public_jobs_jserp-result_search-card',\n",
       " 'https://ae.linkedin.com/jobs/view/head-of-ai-driven-software-development-trilogy-remote-%24400-000-year-usd-at-crossover-3801850709?refId=QVR7LMMoIgf%2BjIdKy50gYg%3D%3D&trackingId=jOpR1luOlmM5BnFrm9Rw7A%3D%3D&position=25&pageNum=4&trk=public_jobs_jserp-result_search-card',\n",
       " 'https://ae.linkedin.com/jobs/view/senior-qa-engineer-app-at-coinmarketcap-3797011930?refId=qJDTWKz6wzU1QgYEs%2BdCxQ%3D%3D&trackingId=aqq8YrdGYCBThWtjkzg5CQ%3D%3D&position=1&pageNum=5&trk=public_jobs_jserp-result_search-card',\n",
       " 'https://ae.linkedin.com/jobs/view/lead-development-lifecycle-engineer-at-canonical-3758460553?refId=qJDTWKz6wzU1QgYEs%2BdCxQ%3D%3D&trackingId=kQPbtqNh8Hp7Kt2264QGFQ%3D%3D&position=2&pageNum=5&trk=public_jobs_jserp-result_search-card',\n",
       " 'https://ae.linkedin.com/jobs/view/senior-machine-learning-engineer-trilogy-remote-%24400-000-year-usd-at-crossover-3801851259?refId=qJDTWKz6wzU1QgYEs%2BdCxQ%3D%3D&trackingId=heDjFZAHHRsE5hQcuag7PA%3D%3D&position=3&pageNum=5&trk=public_jobs_jserp-result_search-card',\n",
       " 'https://ae.linkedin.com/jobs/view/c-golang-software-engineer-working-on-dqlite-a-raft-extension-for-sqlite-at-canonical-3768273565?refId=qJDTWKz6wzU1QgYEs%2BdCxQ%3D%3D&trackingId=0oUuuLrZ16rLIUCICqdZ8A%3D%3D&position=4&pageNum=5&trk=public_jobs_jserp-result_search-card',\n",
       " 'https://ae.linkedin.com/jobs/view/senior-ubuntu-embedded-iot-system-engineer-at-canonical-3781861105?refId=qJDTWKz6wzU1QgYEs%2BdCxQ%3D%3D&trackingId=Qsyskn5H%2Fw04biF%2BR5EaeA%3D%3D&position=5&pageNum=5&trk=public_jobs_jserp-result_search-card',\n",
       " 'https://ae.linkedin.com/jobs/view/senior-software-architect-commercial-systems-at-canonical-3793517157?refId=qJDTWKz6wzU1QgYEs%2BdCxQ%3D%3D&trackingId=dRJKCa%2FzscnuRjnM%2FJUg2Q%3D%3D&position=6&pageNum=5&trk=public_jobs_jserp-result_search-card',\n",
       " 'https://ae.linkedin.com/jobs/view/senior-machine-learning-engineer-trilogy-remote-%24400-000-year-usd-at-crossover-3801852172?refId=qJDTWKz6wzU1QgYEs%2BdCxQ%3D%3D&trackingId=fKY5fXDUgwlKbJZWTUKY4A%3D%3D&position=7&pageNum=5&trk=public_jobs_jserp-result_search-card',\n",
       " 'https://ae.linkedin.com/jobs/view/staff-security-operations-engineer-at-canonical-3801578527?refId=qJDTWKz6wzU1QgYEs%2BdCxQ%3D%3D&trackingId=08uPQo6NHapwy8DyDNRNKA%3D%3D&position=8&pageNum=5&trk=public_jobs_jserp-result_search-card',\n",
       " 'https://ae.linkedin.com/jobs/view/site-reliability-gitops-engineer-at-canonical-3770505963?refId=qJDTWKz6wzU1QgYEs%2BdCxQ%3D%3D&trackingId=MIDSpSBwXZgCnCavE%2F1ajg%3D%3D&position=9&pageNum=5&trk=public_jobs_jserp-result_search-card',\n",
       " 'https://ae.linkedin.com/jobs/view/director-of-ai-enhanced-software-development-trilogy-remote-%24400-000-year-usd-at-crossover-3801851706?refId=qJDTWKz6wzU1QgYEs%2BdCxQ%3D%3D&trackingId=a%2BxdRjm6Yzu87KRsKw%2FeUQ%3D%3D&position=10&pageNum=5&trk=public_jobs_jserp-result_search-card',\n",
       " 'https://ae.linkedin.com/jobs/view/containerization-virtualisation-engineer-at-canonical-3781001789?refId=qJDTWKz6wzU1QgYEs%2BdCxQ%3D%3D&trackingId=HBNV6w3IvQ09DzrqcAC4ug%3D%3D&position=11&pageNum=5&trk=public_jobs_jserp-result_search-card',\n",
       " 'https://ae.linkedin.com/jobs/view/senior-systems-engineer-embedded-linux-optimisation-at-canonical-3733852645?refId=qJDTWKz6wzU1QgYEs%2BdCxQ%3D%3D&trackingId=PxAwNRmiV9eXZ2CmC3KK7w%3D%3D&position=12&pageNum=5&trk=public_jobs_jserp-result_search-card',\n",
       " 'https://ae.linkedin.com/jobs/view/community-engineer-at-canonical-3797467072?refId=qJDTWKz6wzU1QgYEs%2BdCxQ%3D%3D&trackingId=haz57Ak2mRc45QoLCflTqw%3D%3D&position=13&pageNum=5&trk=public_jobs_jserp-result_search-card',\n",
       " 'https://ae.linkedin.com/jobs/view/senior-site-reliability-engineer-emea-at-canonical-3724274874?refId=qJDTWKz6wzU1QgYEs%2BdCxQ%3D%3D&trackingId=q%2BRIO8v96xG69lh1xftitQ%3D%3D&position=14&pageNum=5&trk=public_jobs_jserp-result_search-card',\n",
       " 'https://ae.linkedin.com/jobs/view/senior-observability-platform-developer-python-go-at-canonical-3680012739?refId=qJDTWKz6wzU1QgYEs%2BdCxQ%3D%3D&trackingId=y0PCaxbBZhvkIgjvG%2FLlKA%3D%3D&position=15&pageNum=5&trk=public_jobs_jserp-result_search-card',\n",
       " 'https://ae.linkedin.com/jobs/view/engineering-manager-at-canonical-3801880444?refId=qJDTWKz6wzU1QgYEs%2BdCxQ%3D%3D&trackingId=m43qRbYfwq9002dX%2BJ2%2FrQ%3D%3D&position=16&pageNum=5&trk=public_jobs_jserp-result_search-card',\n",
       " 'https://ae.linkedin.com/jobs/view/senior-site-reliability-gitops-engineer-at-canonical-3765712814?refId=qJDTWKz6wzU1QgYEs%2BdCxQ%3D%3D&trackingId=2ERARucoST88649%2FMWTEVQ%3D%3D&position=17&pageNum=5&trk=public_jobs_jserp-result_search-card',\n",
       " 'https://ae.linkedin.com/jobs/view/customer-success-engineer-at-mailscale-at-join-com-3802180939?refId=qJDTWKz6wzU1QgYEs%2BdCxQ%3D%3D&trackingId=LpGmiAKpRNuK8MBEYWIxDw%3D%3D&position=18&pageNum=5&trk=public_jobs_jserp-result_search-card',\n",
       " 'https://ae.linkedin.com/jobs/view/senior-blockchain-engineer-btc-wallet-at-binance-3801298564?refId=qJDTWKz6wzU1QgYEs%2BdCxQ%3D%3D&trackingId=8X2m8n1la6qI3oOG7hzMQw%3D%3D&position=19&pageNum=5&trk=public_jobs_jserp-result_search-card',\n",
       " 'https://ae.linkedin.com/jobs/view/golang-engineer-at-canonical-3797464596?refId=qJDTWKz6wzU1QgYEs%2BdCxQ%3D%3D&trackingId=dj%2B%2BHjs9KQKdOfbZTDH9iw%3D%3D&position=20&pageNum=5&trk=public_jobs_jserp-result_search-card',\n",
       " 'https://ae.linkedin.com/jobs/view/senior-salesforce-engineer-commercial-systems-at-canonical-3793514396?refId=qJDTWKz6wzU1QgYEs%2BdCxQ%3D%3D&trackingId=onW%2BDx8SQOF%2Bn5KKD4uzww%3D%3D&position=21&pageNum=5&trk=public_jobs_jserp-result_search-card',\n",
       " 'https://ae.linkedin.com/jobs/view/real-time-drilling-and-completions-optimization-technical-sales-engineer-middle-east-at-corva-3781117330?refId=qJDTWKz6wzU1QgYEs%2BdCxQ%3D%3D&trackingId=MlYMt6PbLS7Idk4lYef5GA%3D%3D&position=22&pageNum=5&trk=public_jobs_jserp-result_search-card',\n",
       " 'https://ae.linkedin.com/jobs/view/principal-solutions-architect-trilogy-remote-%24200-000-year-usd-at-crossover-3801850502?refId=qJDTWKz6wzU1QgYEs%2BdCxQ%3D%3D&trackingId=SBlh9X6ZP2UVZC6yml0osg%3D%3D&position=23&pageNum=5&trk=public_jobs_jserp-result_search-card',\n",
       " 'https://ae.linkedin.com/jobs/view/technical-project-manager-trilogy-remote-%24100-000-year-usd-at-crossover-3801849334?refId=qJDTWKz6wzU1QgYEs%2BdCxQ%3D%3D&trackingId=0y9Z%2FAzsDKK8KKnyGAmhRg%3D%3D&position=24&pageNum=5&trk=public_jobs_jserp-result_search-card',\n",
       " 'https://ae.linkedin.com/jobs/view/graduate-linux-system-engineer-qa-tooling-automation-at-canonical-3689054603?refId=qJDTWKz6wzU1QgYEs%2BdCxQ%3D%3D&trackingId=NwgthDOoTam%2BD3LessxxqQ%3D%3D&position=25&pageNum=5&trk=public_jobs_jserp-result_search-card']"
      ]
     },
     "execution_count": 20,
     "metadata": {},
     "output_type": "execute_result"
    }
   ],
   "source": [
    "hrefList"
   ]
  },
  {
   "cell_type": "code",
   "execution_count": 21,
   "metadata": {},
   "outputs": [],
   "source": [
    "linklist=pd.DataFrame(hrefList,columns=[\"joblinks\"])\n"
   ]
  },
  {
   "cell_type": "code",
   "execution_count": 22,
   "metadata": {},
   "outputs": [],
   "source": [
    "linklist.to_csv('linkedinlinks.csv')"
   ]
  },
  {
   "cell_type": "code",
   "execution_count": 23,
   "metadata": {},
   "outputs": [],
   "source": [
    "#Close the driver\n",
    "\n",
    "driver.close()"
   ]
  },
  {
   "cell_type": "code",
   "execution_count": null,
   "metadata": {},
   "outputs": [],
   "source": []
  },
  {
   "cell_type": "code",
   "execution_count": null,
   "metadata": {},
   "outputs": [],
   "source": []
  }
 ],
 "metadata": {
  "kernelspec": {
   "display_name": "Python 3",
   "language": "python",
   "name": "python3"
  },
  "language_info": {
   "codemirror_mode": {
    "name": "ipython",
    "version": 3
   },
   "file_extension": ".py",
   "mimetype": "text/x-python",
   "name": "python",
   "nbconvert_exporter": "python",
   "pygments_lexer": "ipython3",
   "version": "3.12.1"
  }
 },
 "nbformat": 4,
 "nbformat_minor": 4
}
